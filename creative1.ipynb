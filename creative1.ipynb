{
  "metadata": {
    "kernelspec": {
      "name": "python",
      "display_name": "Python (Pyodide)",
      "language": "python"
    },
    "language_info": {
      "codemirror_mode": {
        "name": "python",
        "version": 3
      },
      "file_extension": ".py",
      "mimetype": "text/x-python",
      "name": "python",
      "nbconvert_exporter": "python",
      "pygments_lexer": "ipython3",
      "version": "3.8"
    }
  },
  "nbformat_minor": 5,
  "nbformat": 4,
  "cells": [
    {
      "id": "79cdc8f6-a911-494c-a25b-b2ca65629c11",
      "cell_type": "markdown",
      "source": "Задача 1: “НЕТ тавтологии”  \n  \nУсловие:  \nНапишите программу, которая поможет Грегори понять, сколько раз в тексте он использовал одно и то же слово и все использованыые слова по одному разу.   \n  \nФормат ввода:  \nСтрока текста (слова разделены пробелами).  \n\nФормат вывода:  \nДля каждого уникального слова в тексте вывести строку вида: “слово: количество” и все использованыые слова по одному разу.  \nПорядок вывода слов не важен.  \n  \nТест 1:  \nВвод: apple banana apple orange banana apple  \n  \nВывод:  \napple: 3  \nbanana: 2  \norange: 1\napple banana orange  \n  \nТест 2:  \nВвод: the quick brown fox jumps over the lazy dog the  \n   \nВывод:  \nthe: 3  \nquick: 1  \nbrown: 1    \nfox: 1    \njumps: 1  \nover: 1  \nlazy: 1  \ndog: 1  \nbrown dog fox jumps lazy over quick the  \n  \nРешение:  \n ",
      "metadata": {}
    },
    {
      "id": "66d30140-7251-48b0-865a-72eebfb0467e",
      "cell_type": "code",
      "source": "def process_text(text):\n    words = text.lower().split()\n    word_counts = {}\n    for word in words:\n        if word in word_counts:\n            word_counts[word] += 1\n        else:\n            word_counts[word] = 1\n\n    for word, count in word_counts.items():\n        print(f\"{word}: {count}\")\n\n    unique_words = sorted(list(set(words)))\n    print(*unique_words)\n",
      "metadata": {
        "trusted": true
      },
      "outputs": [],
      "execution_count": 1
    },
    {
      "id": "e7e16135-33b0-4495-8fc0-445620744b22",
      "cell_type": "markdown",
      "source": "Задача 2: “Подготовка к игре”   \n\nУсловие:  \nНапишите программу, которая поможет Вите разложить бумажные купюры в \"Монополии\" по их номиналу. Витя - перфекционист, поэтому номинал купюр нужно вывести по возрастанию.  \n\nФормат ввода:  \nДве строки, каждая содержит числа, разделенные пробелами.  \n\nФормат вывода:  \nСтрока, содержащая общие числа, отсортированные по возрастанию и разделенные пробелами.  \n\nТест 1:  \n\nВвод:  \n1 2 3 4 5  \n3 5 6 7 8  \n  \nВывод:  \n3 5  \n\nТест 2:  \n\nВвод:  \n10 20 30 40 50  \n1 2 30 4 10  \n  \nВывод:  \n10 30  \n  \nРешение:  \n  ",
      "metadata": {}
    },
    {
      "id": "28149782-04c9-4af2-a392-91092b8fb598",
      "cell_type": "code",
      "source": "def find_common_numbers(str1, str2):\n    set1 = set(map(int, str1.split()))\n    set2 = set(map(int, str2.split()))\n    common_numbers = sorted(list(set1.intersection(set2)))\n    print(*common_numbers)",
      "metadata": {
        "trusted": true
      },
      "outputs": [],
      "execution_count": 2
    },
    {
      "id": "18e534c1-ee4a-4105-989f-438052935279",
      "cell_type": "code",
      "source": "",
      "metadata": {
        "trusted": true
      },
      "outputs": [],
      "execution_count": null
    }
  ]
}